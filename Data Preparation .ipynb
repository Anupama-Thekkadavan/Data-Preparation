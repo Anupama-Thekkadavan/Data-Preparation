{
 "cells": [
  {
   "cell_type": "code",
   "execution_count": 1,
   "id": "b5573761-86b5-484a-9373-3a393202416e",
   "metadata": {},
   "outputs": [],
   "source": [
    "sents = 'the red dog cat eats dog dog eats food red cat eats'"
   ]
  },
  {
   "cell_type": "code",
   "execution_count": 2,
   "id": "16888e2a-a1b9-4b9b-9496-42188cf0f94d",
   "metadata": {},
   "outputs": [
    {
     "data": {
      "text/plain": [
       "{'cat', 'dog', 'eats', 'food', 'red', 'the'}"
      ]
     },
     "execution_count": 2,
     "metadata": {},
     "output_type": "execute_result"
    }
   ],
   "source": [
    "set(sents.split())"
   ]
  },
  {
   "cell_type": "code",
   "execution_count": 3,
   "id": "a92b576c-33e0-4db2-a8ac-3cae37cdf499",
   "metadata": {},
   "outputs": [],
   "source": [
    "from nltk.tokenize import word_tokenize\n",
    "import pandas as pd"
   ]
  },
  {
   "cell_type": "code",
   "execution_count": 4,
   "id": "503e7abd-1bfe-4f35-899f-a2d336714a34",
   "metadata": {},
   "outputs": [],
   "source": [
    "sentence_1 = 'It was a good practice for us'\n",
    "sentence_2 = 'It was also good to know about it'\n",
    "sentence_3 = 'for all of us they have done a good practice'"
   ]
  },
  {
   "cell_type": "markdown",
   "id": "8b61c844-fef1-4473-b027-72326f936169",
   "metadata": {},
   "source": [
    "#find the list of all distinct word present in these three sentences"
   ]
  },
  {
   "cell_type": "code",
   "execution_count": 5,
   "id": "604a06de-0cdf-4b6c-a42f-afc1ca65e147",
   "metadata": {},
   "outputs": [
    {
     "name": "stdout",
     "output_type": "stream",
     "text": [
      "['they', 'a', 'practice', 'also', 'to', 'know', 'for', 'about', 'all', 'It', 'us', 'it', 'of', 'have', 'done', 'was', 'good']\n"
     ]
    }
   ],
   "source": [
    "# Define the three sentences\n",
    "sentence_1 = 'It was a good practice for us'\n",
    "sentence_2 = 'It was also good to know about it'\n",
    "sentence_3 = 'for all of us they have done a good practice'\n",
    "\n",
    "# Combine the sentences into one string\n",
    "combined_sentences = sentence_1 + ' ' + sentence_2 + ' ' + sentence_3\n",
    "\n",
    "# Split the combined string into words\n",
    "words = combined_sentences.split()\n",
    "\n",
    "# Create a set to store distinct words\n",
    "distinct_words = set(words)\n",
    "\n",
    "# Convert the set back to a list for easier handling\n",
    "distinct_word_list = list(distinct_words)\n",
    "\n",
    "# Print the list of distinct words\n",
    "print(distinct_word_list)"
   ]
  },
  {
   "cell_type": "code",
   "execution_count": 6,
   "id": "619df36d-952c-4597-a841-25498e71bb87",
   "metadata": {},
   "outputs": [
    {
     "data": {
      "text/plain": [
       "{'It',\n",
       " 'a',\n",
       " 'about',\n",
       " 'all',\n",
       " 'also',\n",
       " 'done',\n",
       " 'for',\n",
       " 'good',\n",
       " 'have',\n",
       " 'it',\n",
       " 'know',\n",
       " 'of',\n",
       " 'practice',\n",
       " 'they',\n",
       " 'to',\n",
       " 'us',\n",
       " 'was'}"
      ]
     },
     "execution_count": 6,
     "metadata": {},
     "output_type": "execute_result"
    }
   ],
   "source": [
    "words = sentence_1.split()+ sentence_2.split()+ sentence_3.split()\n",
    "set(words)"
   ]
  },
  {
   "cell_type": "code",
   "execution_count": 7,
   "id": "f52c74fc-3d77-4530-8325-f13ee09e2938",
   "metadata": {},
   "outputs": [],
   "source": [
    "sentence_1 = 'It was a good practice for us.'\n",
    "sentence_2 = 'It was also good to know about it.'\n",
    "sentence_3 = 'for all of us they have done a good practice.'"
   ]
  },
  {
   "cell_type": "code",
   "execution_count": 8,
   "id": "014b1342-2256-4fa3-a53b-5fb011be70f8",
   "metadata": {},
   "outputs": [
    {
     "data": {
      "text/plain": [
       "{'It',\n",
       " 'a',\n",
       " 'about',\n",
       " 'all',\n",
       " 'also',\n",
       " 'done',\n",
       " 'for',\n",
       " 'good',\n",
       " 'have',\n",
       " 'it',\n",
       " 'know',\n",
       " 'of',\n",
       " 'practice',\n",
       " 'they',\n",
       " 'to',\n",
       " 'us',\n",
       " 'was'}"
      ]
     },
     "execution_count": 8,
     "metadata": {},
     "output_type": "execute_result"
    }
   ],
   "source": [
    "word = word_tokenize(sentence_1)+word_tokenize(sentence_2)+word_tokenize(sentence_3)\n",
    "set(words)"
   ]
  },
  {
   "cell_type": "code",
   "execution_count": 9,
   "id": "1d7c3096-5dfd-4b25-adad-0259a4d0b387",
   "metadata": {},
   "outputs": [],
   "source": [
    "tokens = set(words)"
   ]
  },
  {
   "cell_type": "code",
   "execution_count": 10,
   "id": "c62f2329-0503-466b-8141-8fcf670523c9",
   "metadata": {},
   "outputs": [
    {
     "data": {
      "text/plain": [
       "{'It',\n",
       " 'a',\n",
       " 'about',\n",
       " 'all',\n",
       " 'also',\n",
       " 'done',\n",
       " 'for',\n",
       " 'good',\n",
       " 'have',\n",
       " 'it',\n",
       " 'know',\n",
       " 'of',\n",
       " 'practice',\n",
       " 'they',\n",
       " 'to',\n",
       " 'us',\n",
       " 'was'}"
      ]
     },
     "execution_count": 10,
     "metadata": {},
     "output_type": "execute_result"
    }
   ],
   "source": [
    "tokens"
   ]
  },
  {
   "cell_type": "code",
   "execution_count": 11,
   "id": "7487af1d-f7a6-4db5-87d8-45174f3e890b",
   "metadata": {},
   "outputs": [
    {
     "name": "stdout",
     "output_type": "stream",
     "text": [
      "['they', 'a', 'practice', 'also', 'to', 'know', 'for', 'about', 'all', 'us', 'it', 'of', 'have', 'done', '.', 'was', 'good']\n"
     ]
    }
   ],
   "source": [
    "import nltk\n",
    "\n",
    "sentence_1 = 'It was a good practice for us.'\n",
    "sentence_2 = 'It was also good to know about it.'\n",
    "sentence_3 = 'For all of us they have done a good practice.'\n",
    "\n",
    "# Tokenize and convert to lowercase\n",
    "words = []\n",
    "for sentence in [sentence_1, sentence_2, sentence_3]:\n",
    "    tokenized_words = nltk.word_tokenize(sentence)\n",
    "    lowercase_words = [word.lower() for word in tokenized_words]\n",
    "    words.extend(lowercase_words)\n",
    "\n",
    "# Create a set of distinct words\n",
    "distinct_words = set(words)\n",
    "\n",
    "# Print the list of distinct words\n",
    "print(list(distinct_words))"
   ]
  },
  {
   "cell_type": "code",
   "execution_count": 12,
   "id": "70e0a704-88c9-4b5a-80f1-14cc558d9a25",
   "metadata": {},
   "outputs": [
    {
     "data": {
      "text/html": [
       "<div>\n",
       "<style scoped>\n",
       "    .dataframe tbody tr th:only-of-type {\n",
       "        vertical-align: middle;\n",
       "    }\n",
       "\n",
       "    .dataframe tbody tr th {\n",
       "        vertical-align: top;\n",
       "    }\n",
       "\n",
       "    .dataframe thead th {\n",
       "        text-align: right;\n",
       "    }\n",
       "</style>\n",
       "<table border=\"1\" class=\"dataframe\">\n",
       "  <thead>\n",
       "    <tr style=\"text-align: right;\">\n",
       "      <th></th>\n",
       "      <th>they</th>\n",
       "      <th>a</th>\n",
       "      <th>practice</th>\n",
       "      <th>also</th>\n",
       "      <th>to</th>\n",
       "      <th>know</th>\n",
       "      <th>for</th>\n",
       "      <th>about</th>\n",
       "      <th>all</th>\n",
       "      <th>It</th>\n",
       "      <th>us</th>\n",
       "      <th>it</th>\n",
       "      <th>of</th>\n",
       "      <th>have</th>\n",
       "      <th>done</th>\n",
       "      <th>was</th>\n",
       "      <th>good</th>\n",
       "    </tr>\n",
       "  </thead>\n",
       "  <tbody>\n",
       "    <tr>\n",
       "      <th>1</th>\n",
       "      <td>NaN</td>\n",
       "      <td>NaN</td>\n",
       "      <td>NaN</td>\n",
       "      <td>NaN</td>\n",
       "      <td>NaN</td>\n",
       "      <td>NaN</td>\n",
       "      <td>NaN</td>\n",
       "      <td>NaN</td>\n",
       "      <td>NaN</td>\n",
       "      <td>NaN</td>\n",
       "      <td>NaN</td>\n",
       "      <td>NaN</td>\n",
       "      <td>NaN</td>\n",
       "      <td>NaN</td>\n",
       "      <td>NaN</td>\n",
       "      <td>NaN</td>\n",
       "      <td>NaN</td>\n",
       "    </tr>\n",
       "    <tr>\n",
       "      <th>2</th>\n",
       "      <td>NaN</td>\n",
       "      <td>NaN</td>\n",
       "      <td>NaN</td>\n",
       "      <td>NaN</td>\n",
       "      <td>NaN</td>\n",
       "      <td>NaN</td>\n",
       "      <td>NaN</td>\n",
       "      <td>NaN</td>\n",
       "      <td>NaN</td>\n",
       "      <td>NaN</td>\n",
       "      <td>NaN</td>\n",
       "      <td>NaN</td>\n",
       "      <td>NaN</td>\n",
       "      <td>NaN</td>\n",
       "      <td>NaN</td>\n",
       "      <td>NaN</td>\n",
       "      <td>NaN</td>\n",
       "    </tr>\n",
       "    <tr>\n",
       "      <th>3</th>\n",
       "      <td>NaN</td>\n",
       "      <td>NaN</td>\n",
       "      <td>NaN</td>\n",
       "      <td>NaN</td>\n",
       "      <td>NaN</td>\n",
       "      <td>NaN</td>\n",
       "      <td>NaN</td>\n",
       "      <td>NaN</td>\n",
       "      <td>NaN</td>\n",
       "      <td>NaN</td>\n",
       "      <td>NaN</td>\n",
       "      <td>NaN</td>\n",
       "      <td>NaN</td>\n",
       "      <td>NaN</td>\n",
       "      <td>NaN</td>\n",
       "      <td>NaN</td>\n",
       "      <td>NaN</td>\n",
       "    </tr>\n",
       "  </tbody>\n",
       "</table>\n",
       "</div>"
      ],
      "text/plain": [
       "  they    a practice also   to know  for about  all   It   us   it   of have  \\\n",
       "1  NaN  NaN      NaN  NaN  NaN  NaN  NaN   NaN  NaN  NaN  NaN  NaN  NaN  NaN   \n",
       "2  NaN  NaN      NaN  NaN  NaN  NaN  NaN   NaN  NaN  NaN  NaN  NaN  NaN  NaN   \n",
       "3  NaN  NaN      NaN  NaN  NaN  NaN  NaN   NaN  NaN  NaN  NaN  NaN  NaN  NaN   \n",
       "\n",
       "  done  was good  \n",
       "1  NaN  NaN  NaN  \n",
       "2  NaN  NaN  NaN  \n",
       "3  NaN  NaN  NaN  "
      ]
     },
     "execution_count": 12,
     "metadata": {},
     "output_type": "execute_result"
    }
   ],
   "source": [
    "df = pd.DataFrame(columns= list(tokens), index=[1,2,3])\n",
    "df"
   ]
  },
  {
   "cell_type": "code",
   "execution_count": 13,
   "id": "156e7f7e-acc8-4559-ad1e-be126ca55c14",
   "metadata": {},
   "outputs": [],
   "source": [
    "tokens1 = word_tokenize(sentence_1.lower())\n",
    "tokens2 = word_tokenize(sentence_2.lower())\n",
    "tokens3 = word_tokenize(sentence_3.lower())"
   ]
  },
  {
   "cell_type": "code",
   "execution_count": 14,
   "id": "cfc1c8c5-1dff-4b87-9395-1cd606ac4e99",
   "metadata": {},
   "outputs": [
    {
     "data": {
      "text/plain": [
       "(['it', 'was', 'a', 'good', 'practice', 'for', 'us', '.'],\n",
       " ['it', 'was', 'also', 'good', 'to', 'know', 'about', 'it', '.'],\n",
       " ['for',\n",
       "  'all',\n",
       "  'of',\n",
       "  'us',\n",
       "  'they',\n",
       "  'have',\n",
       "  'done',\n",
       "  'a',\n",
       "  'good',\n",
       "  'practice',\n",
       "  '.'])"
      ]
     },
     "execution_count": 14,
     "metadata": {},
     "output_type": "execute_result"
    }
   ],
   "source": [
    "tokens1, tokens2, tokens3"
   ]
  },
  {
   "cell_type": "code",
   "execution_count": 15,
   "id": "98b870b6-1aa6-432f-83cd-49651057b3eb",
   "metadata": {},
   "outputs": [],
   "source": [
    "counts1 = [tokens1.count(x) for x in df.columns]\n",
    "counts2 = [tokens2.count(x) for x in df.columns]\n",
    "counts3 = [tokens3.count(x) for x in df.columns]"
   ]
  },
  {
   "cell_type": "code",
   "execution_count": 16,
   "id": "50996d80-4deb-48db-995a-02c8680e4ecb",
   "metadata": {},
   "outputs": [
    {
     "data": {
      "text/plain": [
       "([0, 1, 1, 0, 0, 0, 1, 0, 0, 0, 1, 1, 0, 0, 0, 1, 1],\n",
       " [0, 0, 0, 1, 1, 1, 0, 1, 0, 0, 0, 2, 0, 0, 0, 1, 1],\n",
       " [1, 1, 1, 0, 0, 0, 1, 0, 1, 0, 1, 0, 1, 1, 1, 0, 1])"
      ]
     },
     "execution_count": 16,
     "metadata": {},
     "output_type": "execute_result"
    }
   ],
   "source": [
    "counts1, counts2, counts3"
   ]
  },
  {
   "cell_type": "code",
   "execution_count": 17,
   "id": "1898dc7f-c98e-43cb-9a8a-31508b9cde7a",
   "metadata": {},
   "outputs": [
    {
     "data": {
      "text/html": [
       "<div>\n",
       "<style scoped>\n",
       "    .dataframe tbody tr th:only-of-type {\n",
       "        vertical-align: middle;\n",
       "    }\n",
       "\n",
       "    .dataframe tbody tr th {\n",
       "        vertical-align: top;\n",
       "    }\n",
       "\n",
       "    .dataframe thead th {\n",
       "        text-align: right;\n",
       "    }\n",
       "</style>\n",
       "<table border=\"1\" class=\"dataframe\">\n",
       "  <thead>\n",
       "    <tr style=\"text-align: right;\">\n",
       "      <th></th>\n",
       "      <th>they</th>\n",
       "      <th>a</th>\n",
       "      <th>practice</th>\n",
       "      <th>also</th>\n",
       "      <th>to</th>\n",
       "      <th>know</th>\n",
       "      <th>for</th>\n",
       "      <th>about</th>\n",
       "      <th>all</th>\n",
       "      <th>It</th>\n",
       "      <th>us</th>\n",
       "      <th>it</th>\n",
       "      <th>of</th>\n",
       "      <th>have</th>\n",
       "      <th>done</th>\n",
       "      <th>was</th>\n",
       "      <th>good</th>\n",
       "    </tr>\n",
       "  </thead>\n",
       "  <tbody>\n",
       "    <tr>\n",
       "      <th>1</th>\n",
       "      <td>NaN</td>\n",
       "      <td>NaN</td>\n",
       "      <td>NaN</td>\n",
       "      <td>NaN</td>\n",
       "      <td>NaN</td>\n",
       "      <td>NaN</td>\n",
       "      <td>NaN</td>\n",
       "      <td>NaN</td>\n",
       "      <td>NaN</td>\n",
       "      <td>NaN</td>\n",
       "      <td>NaN</td>\n",
       "      <td>NaN</td>\n",
       "      <td>NaN</td>\n",
       "      <td>NaN</td>\n",
       "      <td>NaN</td>\n",
       "      <td>NaN</td>\n",
       "      <td>NaN</td>\n",
       "    </tr>\n",
       "    <tr>\n",
       "      <th>2</th>\n",
       "      <td>NaN</td>\n",
       "      <td>NaN</td>\n",
       "      <td>NaN</td>\n",
       "      <td>NaN</td>\n",
       "      <td>NaN</td>\n",
       "      <td>NaN</td>\n",
       "      <td>NaN</td>\n",
       "      <td>NaN</td>\n",
       "      <td>NaN</td>\n",
       "      <td>NaN</td>\n",
       "      <td>NaN</td>\n",
       "      <td>NaN</td>\n",
       "      <td>NaN</td>\n",
       "      <td>NaN</td>\n",
       "      <td>NaN</td>\n",
       "      <td>NaN</td>\n",
       "      <td>NaN</td>\n",
       "    </tr>\n",
       "    <tr>\n",
       "      <th>3</th>\n",
       "      <td>NaN</td>\n",
       "      <td>NaN</td>\n",
       "      <td>NaN</td>\n",
       "      <td>NaN</td>\n",
       "      <td>NaN</td>\n",
       "      <td>NaN</td>\n",
       "      <td>NaN</td>\n",
       "      <td>NaN</td>\n",
       "      <td>NaN</td>\n",
       "      <td>NaN</td>\n",
       "      <td>NaN</td>\n",
       "      <td>NaN</td>\n",
       "      <td>NaN</td>\n",
       "      <td>NaN</td>\n",
       "      <td>NaN</td>\n",
       "      <td>NaN</td>\n",
       "      <td>NaN</td>\n",
       "    </tr>\n",
       "  </tbody>\n",
       "</table>\n",
       "</div>"
      ],
      "text/plain": [
       "  they    a practice also   to know  for about  all   It   us   it   of have  \\\n",
       "1  NaN  NaN      NaN  NaN  NaN  NaN  NaN   NaN  NaN  NaN  NaN  NaN  NaN  NaN   \n",
       "2  NaN  NaN      NaN  NaN  NaN  NaN  NaN   NaN  NaN  NaN  NaN  NaN  NaN  NaN   \n",
       "3  NaN  NaN      NaN  NaN  NaN  NaN  NaN   NaN  NaN  NaN  NaN  NaN  NaN  NaN   \n",
       "\n",
       "  done  was good  \n",
       "1  NaN  NaN  NaN  \n",
       "2  NaN  NaN  NaN  \n",
       "3  NaN  NaN  NaN  "
      ]
     },
     "execution_count": 17,
     "metadata": {},
     "output_type": "execute_result"
    }
   ],
   "source": [
    "df"
   ]
  },
  {
   "cell_type": "code",
   "execution_count": 18,
   "id": "1ac1db94-6556-4cc4-9b01-4301b03b858d",
   "metadata": {},
   "outputs": [],
   "source": [
    "df.iloc[0,:] = counts1\n",
    "df.iloc[1,:] = counts2\n",
    "df.iloc[2,:] = counts3"
   ]
  },
  {
   "cell_type": "code",
   "execution_count": 19,
   "id": "7cfe13c5-5b55-4628-b209-52bb66954f5e",
   "metadata": {},
   "outputs": [
    {
     "data": {
      "text/html": [
       "<div>\n",
       "<style scoped>\n",
       "    .dataframe tbody tr th:only-of-type {\n",
       "        vertical-align: middle;\n",
       "    }\n",
       "\n",
       "    .dataframe tbody tr th {\n",
       "        vertical-align: top;\n",
       "    }\n",
       "\n",
       "    .dataframe thead th {\n",
       "        text-align: right;\n",
       "    }\n",
       "</style>\n",
       "<table border=\"1\" class=\"dataframe\">\n",
       "  <thead>\n",
       "    <tr style=\"text-align: right;\">\n",
       "      <th></th>\n",
       "      <th>they</th>\n",
       "      <th>a</th>\n",
       "      <th>practice</th>\n",
       "      <th>also</th>\n",
       "      <th>to</th>\n",
       "      <th>know</th>\n",
       "      <th>for</th>\n",
       "      <th>about</th>\n",
       "      <th>all</th>\n",
       "      <th>It</th>\n",
       "      <th>us</th>\n",
       "      <th>it</th>\n",
       "      <th>of</th>\n",
       "      <th>have</th>\n",
       "      <th>done</th>\n",
       "      <th>was</th>\n",
       "      <th>good</th>\n",
       "    </tr>\n",
       "  </thead>\n",
       "  <tbody>\n",
       "    <tr>\n",
       "      <th>1</th>\n",
       "      <td>0</td>\n",
       "      <td>1</td>\n",
       "      <td>1</td>\n",
       "      <td>0</td>\n",
       "      <td>0</td>\n",
       "      <td>0</td>\n",
       "      <td>1</td>\n",
       "      <td>0</td>\n",
       "      <td>0</td>\n",
       "      <td>0</td>\n",
       "      <td>1</td>\n",
       "      <td>1</td>\n",
       "      <td>0</td>\n",
       "      <td>0</td>\n",
       "      <td>0</td>\n",
       "      <td>1</td>\n",
       "      <td>1</td>\n",
       "    </tr>\n",
       "    <tr>\n",
       "      <th>2</th>\n",
       "      <td>0</td>\n",
       "      <td>0</td>\n",
       "      <td>0</td>\n",
       "      <td>1</td>\n",
       "      <td>1</td>\n",
       "      <td>1</td>\n",
       "      <td>0</td>\n",
       "      <td>1</td>\n",
       "      <td>0</td>\n",
       "      <td>0</td>\n",
       "      <td>0</td>\n",
       "      <td>2</td>\n",
       "      <td>0</td>\n",
       "      <td>0</td>\n",
       "      <td>0</td>\n",
       "      <td>1</td>\n",
       "      <td>1</td>\n",
       "    </tr>\n",
       "    <tr>\n",
       "      <th>3</th>\n",
       "      <td>1</td>\n",
       "      <td>1</td>\n",
       "      <td>1</td>\n",
       "      <td>0</td>\n",
       "      <td>0</td>\n",
       "      <td>0</td>\n",
       "      <td>1</td>\n",
       "      <td>0</td>\n",
       "      <td>1</td>\n",
       "      <td>0</td>\n",
       "      <td>1</td>\n",
       "      <td>0</td>\n",
       "      <td>1</td>\n",
       "      <td>1</td>\n",
       "      <td>1</td>\n",
       "      <td>0</td>\n",
       "      <td>1</td>\n",
       "    </tr>\n",
       "  </tbody>\n",
       "</table>\n",
       "</div>"
      ],
      "text/plain": [
       "  they  a practice also to know for about all It us it of have done was good\n",
       "1    0  1        1    0  0    0   1     0   0  0  1  1  0    0    0   1    1\n",
       "2    0  0        0    1  1    1   0     1   0  0  0  2  0    0    0   1    1\n",
       "3    1  1        1    0  0    0   1     0   1  0  1  0  1    1    1   0    1"
      ]
     },
     "execution_count": 19,
     "metadata": {},
     "output_type": "execute_result"
    }
   ],
   "source": [
    "df"
   ]
  },
  {
   "cell_type": "code",
   "execution_count": 20,
   "id": "07f90a67-7896-4c0e-bfdf-1736992b7479",
   "metadata": {},
   "outputs": [],
   "source": [
    "#Import the count vectorizer class\n",
    "\n",
    "from sklearn.feature_extraction.text import CountVectorizer"
   ]
  },
  {
   "cell_type": "code",
   "execution_count": 21,
   "id": "b5b8ffe8-c51c-4345-b21f-cd52cc758d36",
   "metadata": {},
   "outputs": [],
   "source": [
    "#Create the object\n",
    "\n",
    "cv= CountVectorizer()"
   ]
  },
  {
   "cell_type": "code",
   "execution_count": 22,
   "id": "643fb4a3-2028-45dc-bb2a-6bbb80f8d12e",
   "metadata": {},
   "outputs": [],
   "source": [
    "#Apply the BOW method\n",
    "\n",
    "mydata = cv.fit_transform([sentence_1, sentence_2, sentence_3])"
   ]
  },
  {
   "cell_type": "code",
   "execution_count": 23,
   "id": "786cc0c7-08ff-4558-8fde-ccaf7f704eae",
   "metadata": {},
   "outputs": [
    {
     "data": {
      "text/plain": [
       "array([[0, 0, 0, 0, 1, 1, 0, 1, 0, 0, 1, 0, 0, 1, 1],\n",
       "       [1, 0, 1, 0, 0, 1, 0, 2, 1, 0, 0, 0, 1, 0, 1],\n",
       "       [0, 1, 0, 1, 1, 1, 1, 0, 0, 1, 1, 1, 0, 1, 0]], dtype=int64)"
      ]
     },
     "execution_count": 23,
     "metadata": {},
     "output_type": "execute_result"
    }
   ],
   "source": [
    "mydata.toarray()"
   ]
  },
  {
   "cell_type": "code",
   "execution_count": 24,
   "id": "7f5938a0-2b61-4f4a-8c51-32da32d4cf87",
   "metadata": {},
   "outputs": [
    {
     "data": {
      "text/plain": [
       "array(['about', 'all', 'also', 'done', 'for', 'good', 'have', 'it',\n",
       "       'know', 'of', 'practice', 'they', 'to', 'us', 'was'], dtype=object)"
      ]
     },
     "execution_count": 24,
     "metadata": {},
     "output_type": "execute_result"
    }
   ],
   "source": [
    "cv.get_feature_names_out()"
   ]
  },
  {
   "cell_type": "code",
   "execution_count": 25,
   "id": "da817d8b-8de5-4648-b439-b78846f5414b",
   "metadata": {},
   "outputs": [],
   "source": [
    "df=pd.DataFrame(data=mydata.toarray(),\n",
    "                columns=cv.get_feature_names_out())"
   ]
  },
  {
   "cell_type": "code",
   "execution_count": 26,
   "id": "1ca70fcf-5cba-441d-bc9e-7a1a238b4507",
   "metadata": {},
   "outputs": [
    {
     "data": {
      "text/html": [
       "<div>\n",
       "<style scoped>\n",
       "    .dataframe tbody tr th:only-of-type {\n",
       "        vertical-align: middle;\n",
       "    }\n",
       "\n",
       "    .dataframe tbody tr th {\n",
       "        vertical-align: top;\n",
       "    }\n",
       "\n",
       "    .dataframe thead th {\n",
       "        text-align: right;\n",
       "    }\n",
       "</style>\n",
       "<table border=\"1\" class=\"dataframe\">\n",
       "  <thead>\n",
       "    <tr style=\"text-align: right;\">\n",
       "      <th></th>\n",
       "      <th>about</th>\n",
       "      <th>all</th>\n",
       "      <th>also</th>\n",
       "      <th>done</th>\n",
       "      <th>for</th>\n",
       "      <th>good</th>\n",
       "      <th>have</th>\n",
       "      <th>it</th>\n",
       "      <th>know</th>\n",
       "      <th>of</th>\n",
       "      <th>practice</th>\n",
       "      <th>they</th>\n",
       "      <th>to</th>\n",
       "      <th>us</th>\n",
       "      <th>was</th>\n",
       "    </tr>\n",
       "  </thead>\n",
       "  <tbody>\n",
       "    <tr>\n",
       "      <th>0</th>\n",
       "      <td>0</td>\n",
       "      <td>0</td>\n",
       "      <td>0</td>\n",
       "      <td>0</td>\n",
       "      <td>1</td>\n",
       "      <td>1</td>\n",
       "      <td>0</td>\n",
       "      <td>1</td>\n",
       "      <td>0</td>\n",
       "      <td>0</td>\n",
       "      <td>1</td>\n",
       "      <td>0</td>\n",
       "      <td>0</td>\n",
       "      <td>1</td>\n",
       "      <td>1</td>\n",
       "    </tr>\n",
       "    <tr>\n",
       "      <th>1</th>\n",
       "      <td>1</td>\n",
       "      <td>0</td>\n",
       "      <td>1</td>\n",
       "      <td>0</td>\n",
       "      <td>0</td>\n",
       "      <td>1</td>\n",
       "      <td>0</td>\n",
       "      <td>2</td>\n",
       "      <td>1</td>\n",
       "      <td>0</td>\n",
       "      <td>0</td>\n",
       "      <td>0</td>\n",
       "      <td>1</td>\n",
       "      <td>0</td>\n",
       "      <td>1</td>\n",
       "    </tr>\n",
       "    <tr>\n",
       "      <th>2</th>\n",
       "      <td>0</td>\n",
       "      <td>1</td>\n",
       "      <td>0</td>\n",
       "      <td>1</td>\n",
       "      <td>1</td>\n",
       "      <td>1</td>\n",
       "      <td>1</td>\n",
       "      <td>0</td>\n",
       "      <td>0</td>\n",
       "      <td>1</td>\n",
       "      <td>1</td>\n",
       "      <td>1</td>\n",
       "      <td>0</td>\n",
       "      <td>1</td>\n",
       "      <td>0</td>\n",
       "    </tr>\n",
       "  </tbody>\n",
       "</table>\n",
       "</div>"
      ],
      "text/plain": [
       "   about  all  also  done  for  good  have  it  know  of  practice  they  to  \\\n",
       "0      0    0     0     0    1     1     0   1     0   0         1     0   0   \n",
       "1      1    0     1     0    0     1     0   2     1   0         0     0   1   \n",
       "2      0    1     0     1    1     1     1   0     0   1         1     1   0   \n",
       "\n",
       "   us  was  \n",
       "0   1    1  \n",
       "1   0    1  \n",
       "2   1    0  "
      ]
     },
     "execution_count": 26,
     "metadata": {},
     "output_type": "execute_result"
    }
   ],
   "source": [
    "df"
   ]
  },
  {
   "cell_type": "markdown",
   "id": "3cb18a08-220f-40a7-ae73-f903c06d1ff0",
   "metadata": {},
   "source": [
    "<b>N-grams<b>"
   ]
  },
  {
   "cell_type": "code",
   "execution_count": 27,
   "id": "053a75c7-ca51-4c27-a242-bc98f93178f7",
   "metadata": {},
   "outputs": [],
   "source": [
    "#Create the object\n",
    "\n",
    "cv= CountVectorizer(ngram_range=(1,2))"
   ]
  },
  {
   "cell_type": "code",
   "execution_count": 28,
   "id": "513630b4-ff5b-446e-9d59-e00d3fcade26",
   "metadata": {},
   "outputs": [],
   "source": [
    "#Apply the BOW- ngram method\n",
    "\n",
    "mydata= cv.fit_transform([sentence_1, sentence_2, sentence_3])"
   ]
  },
  {
   "cell_type": "code",
   "execution_count": 29,
   "id": "14f3bd57-2443-4af8-90ec-71c280344a45",
   "metadata": {},
   "outputs": [
    {
     "data": {
      "text/plain": [
       "array(['about', 'about it', 'all', 'all of', 'also', 'also good', 'done',\n",
       "       'done good', 'for', 'for all', 'for us', 'good', 'good practice',\n",
       "       'good to', 'have', 'have done', 'it', 'it was', 'know',\n",
       "       'know about', 'of', 'of us', 'practice', 'practice for', 'they',\n",
       "       'they have', 'to', 'to know', 'us', 'us they', 'was', 'was also',\n",
       "       'was good'], dtype=object)"
      ]
     },
     "execution_count": 29,
     "metadata": {},
     "output_type": "execute_result"
    }
   ],
   "source": [
    "cv.get_feature_names_out()"
   ]
  },
  {
   "cell_type": "code",
   "execution_count": 30,
   "id": "23843cb4-f646-412a-9e03-d9a81c6043fa",
   "metadata": {},
   "outputs": [],
   "source": [
    "df = pd.DataFrame(data=mydata.toarray(),\n",
    "                  columns=cv.get_feature_names_out())"
   ]
  },
  {
   "cell_type": "code",
   "execution_count": 31,
   "id": "26dc07be-a139-43e9-b868-c27679b4b62a",
   "metadata": {},
   "outputs": [
    {
     "data": {
      "text/html": [
       "<div>\n",
       "<style scoped>\n",
       "    .dataframe tbody tr th:only-of-type {\n",
       "        vertical-align: middle;\n",
       "    }\n",
       "\n",
       "    .dataframe tbody tr th {\n",
       "        vertical-align: top;\n",
       "    }\n",
       "\n",
       "    .dataframe thead th {\n",
       "        text-align: right;\n",
       "    }\n",
       "</style>\n",
       "<table border=\"1\" class=\"dataframe\">\n",
       "  <thead>\n",
       "    <tr style=\"text-align: right;\">\n",
       "      <th></th>\n",
       "      <th>about</th>\n",
       "      <th>about it</th>\n",
       "      <th>all</th>\n",
       "      <th>all of</th>\n",
       "      <th>also</th>\n",
       "      <th>also good</th>\n",
       "      <th>done</th>\n",
       "      <th>done good</th>\n",
       "      <th>for</th>\n",
       "      <th>for all</th>\n",
       "      <th>...</th>\n",
       "      <th>practice for</th>\n",
       "      <th>they</th>\n",
       "      <th>they have</th>\n",
       "      <th>to</th>\n",
       "      <th>to know</th>\n",
       "      <th>us</th>\n",
       "      <th>us they</th>\n",
       "      <th>was</th>\n",
       "      <th>was also</th>\n",
       "      <th>was good</th>\n",
       "    </tr>\n",
       "  </thead>\n",
       "  <tbody>\n",
       "    <tr>\n",
       "      <th>0</th>\n",
       "      <td>0</td>\n",
       "      <td>0</td>\n",
       "      <td>0</td>\n",
       "      <td>0</td>\n",
       "      <td>0</td>\n",
       "      <td>0</td>\n",
       "      <td>0</td>\n",
       "      <td>0</td>\n",
       "      <td>1</td>\n",
       "      <td>0</td>\n",
       "      <td>...</td>\n",
       "      <td>1</td>\n",
       "      <td>0</td>\n",
       "      <td>0</td>\n",
       "      <td>0</td>\n",
       "      <td>0</td>\n",
       "      <td>1</td>\n",
       "      <td>0</td>\n",
       "      <td>1</td>\n",
       "      <td>0</td>\n",
       "      <td>1</td>\n",
       "    </tr>\n",
       "    <tr>\n",
       "      <th>1</th>\n",
       "      <td>1</td>\n",
       "      <td>1</td>\n",
       "      <td>0</td>\n",
       "      <td>0</td>\n",
       "      <td>1</td>\n",
       "      <td>1</td>\n",
       "      <td>0</td>\n",
       "      <td>0</td>\n",
       "      <td>0</td>\n",
       "      <td>0</td>\n",
       "      <td>...</td>\n",
       "      <td>0</td>\n",
       "      <td>0</td>\n",
       "      <td>0</td>\n",
       "      <td>1</td>\n",
       "      <td>1</td>\n",
       "      <td>0</td>\n",
       "      <td>0</td>\n",
       "      <td>1</td>\n",
       "      <td>1</td>\n",
       "      <td>0</td>\n",
       "    </tr>\n",
       "    <tr>\n",
       "      <th>2</th>\n",
       "      <td>0</td>\n",
       "      <td>0</td>\n",
       "      <td>1</td>\n",
       "      <td>1</td>\n",
       "      <td>0</td>\n",
       "      <td>0</td>\n",
       "      <td>1</td>\n",
       "      <td>1</td>\n",
       "      <td>1</td>\n",
       "      <td>1</td>\n",
       "      <td>...</td>\n",
       "      <td>0</td>\n",
       "      <td>1</td>\n",
       "      <td>1</td>\n",
       "      <td>0</td>\n",
       "      <td>0</td>\n",
       "      <td>1</td>\n",
       "      <td>1</td>\n",
       "      <td>0</td>\n",
       "      <td>0</td>\n",
       "      <td>0</td>\n",
       "    </tr>\n",
       "  </tbody>\n",
       "</table>\n",
       "<p>3 rows × 33 columns</p>\n",
       "</div>"
      ],
      "text/plain": [
       "   about  about it  all  all of  also  also good  done  done good  for  \\\n",
       "0      0         0    0       0     0          0     0          0    1   \n",
       "1      1         1    0       0     1          1     0          0    0   \n",
       "2      0         0    1       1     0          0     1          1    1   \n",
       "\n",
       "   for all  ...  practice for  they  they have  to  to know  us  us they  was  \\\n",
       "0        0  ...             1     0          0   0        0   1        0    1   \n",
       "1        0  ...             0     0          0   1        1   0        0    1   \n",
       "2        1  ...             0     1          1   0        0   1        1    0   \n",
       "\n",
       "   was also  was good  \n",
       "0         0         1  \n",
       "1         1         0  \n",
       "2         0         0  \n",
       "\n",
       "[3 rows x 33 columns]"
      ]
     },
     "execution_count": 31,
     "metadata": {},
     "output_type": "execute_result"
    }
   ],
   "source": [
    "df"
   ]
  },
  {
   "cell_type": "markdown",
   "id": "bf54aec4-2883-4f26-af93-ceffee8cc11c",
   "metadata": {},
   "source": [
    "<b>TF*IDF Vectorizer<b>"
   ]
  },
  {
   "cell_type": "code",
   "execution_count": 32,
   "id": "2bf05da1-0cd2-4300-8491-a66f46647121",
   "metadata": {},
   "outputs": [],
   "source": [
    "#Import the class\n",
    "\n",
    "from sklearn.feature_extraction.text import TfidfVectorizer"
   ]
  },
  {
   "cell_type": "code",
   "execution_count": 33,
   "id": "8bfdf793-6534-4906-bc60-25121dc6b9fd",
   "metadata": {},
   "outputs": [],
   "source": [
    "#Create the object\n",
    "\n",
    "tfidf = TfidfVectorizer()"
   ]
  },
  {
   "cell_type": "code",
   "execution_count": 35,
   "id": "877e81b0-ea87-4179-979e-4c87c6d734d2",
   "metadata": {},
   "outputs": [],
   "source": [
    "#Apply the algorithm\n",
    "\n",
    "new_data = tfidf.fit_transform([sentence_1, sentence_2, sentence_3])"
   ]
  },
  {
   "cell_type": "code",
   "execution_count": 38,
   "id": "4c6faba0-cd39-4a44-9480-2d27c08f0a2e",
   "metadata": {},
   "outputs": [
    {
     "data": {
      "text/plain": [
       "array([[0.        , 0.        , 0.        , 0.        , 0.42246056,\n",
       "        0.32807831, 0.        , 0.42246056, 0.        , 0.        ,\n",
       "        0.42246056, 0.        , 0.        , 0.42246056, 0.42246056],\n",
       "       [0.37162591, 0.        , 0.37162591, 0.        , 0.        ,\n",
       "        0.21948825, 0.        , 0.56526217, 0.37162591, 0.        ,\n",
       "        0.        , 0.        , 0.37162591, 0.        , 0.28263108],\n",
       "       [0.        , 0.37571621, 0.        , 0.37571621, 0.28574186,\n",
       "        0.22190405, 0.37571621, 0.        , 0.        , 0.37571621,\n",
       "        0.28574186, 0.37571621, 0.        , 0.28574186, 0.        ]])"
      ]
     },
     "execution_count": 38,
     "metadata": {},
     "output_type": "execute_result"
    }
   ],
   "source": [
    "new_data.toarray()"
   ]
  },
  {
   "cell_type": "code",
   "execution_count": 42,
   "id": "35b080c6-58f4-4ed4-8d75-ac8cfeba8949",
   "metadata": {},
   "outputs": [
    {
     "data": {
      "text/plain": [
       "array(['about', 'all', 'also', 'done', 'for', 'good', 'have', 'it',\n",
       "       'know', 'of', 'practice', 'they', 'to', 'us', 'was'], dtype=object)"
      ]
     },
     "execution_count": 42,
     "metadata": {},
     "output_type": "execute_result"
    }
   ],
   "source": [
    "tfidf.get_feature_names_out()"
   ]
  },
  {
   "cell_type": "code",
   "execution_count": 46,
   "id": "c02bc6b5-d1a5-4e93-8cdc-2a6c97fac18d",
   "metadata": {},
   "outputs": [],
   "source": [
    "df = pd.DataFrame(data=new_data.toarray(),\n",
    "                  columns=tfidf.get_feature_names_out())"
   ]
  },
  {
   "cell_type": "code",
   "execution_count": 47,
   "id": "a335970e-9676-4ec4-92c8-b23b69c592c3",
   "metadata": {},
   "outputs": [
    {
     "data": {
      "text/html": [
       "<div>\n",
       "<style scoped>\n",
       "    .dataframe tbody tr th:only-of-type {\n",
       "        vertical-align: middle;\n",
       "    }\n",
       "\n",
       "    .dataframe tbody tr th {\n",
       "        vertical-align: top;\n",
       "    }\n",
       "\n",
       "    .dataframe thead th {\n",
       "        text-align: right;\n",
       "    }\n",
       "</style>\n",
       "<table border=\"1\" class=\"dataframe\">\n",
       "  <thead>\n",
       "    <tr style=\"text-align: right;\">\n",
       "      <th></th>\n",
       "      <th>about</th>\n",
       "      <th>all</th>\n",
       "      <th>also</th>\n",
       "      <th>done</th>\n",
       "      <th>for</th>\n",
       "      <th>good</th>\n",
       "      <th>have</th>\n",
       "      <th>it</th>\n",
       "      <th>know</th>\n",
       "      <th>of</th>\n",
       "      <th>practice</th>\n",
       "      <th>they</th>\n",
       "      <th>to</th>\n",
       "      <th>us</th>\n",
       "      <th>was</th>\n",
       "    </tr>\n",
       "  </thead>\n",
       "  <tbody>\n",
       "    <tr>\n",
       "      <th>0</th>\n",
       "      <td>0.000000</td>\n",
       "      <td>0.000000</td>\n",
       "      <td>0.000000</td>\n",
       "      <td>0.000000</td>\n",
       "      <td>0.422461</td>\n",
       "      <td>0.328078</td>\n",
       "      <td>0.000000</td>\n",
       "      <td>0.422461</td>\n",
       "      <td>0.000000</td>\n",
       "      <td>0.000000</td>\n",
       "      <td>0.422461</td>\n",
       "      <td>0.000000</td>\n",
       "      <td>0.000000</td>\n",
       "      <td>0.422461</td>\n",
       "      <td>0.422461</td>\n",
       "    </tr>\n",
       "    <tr>\n",
       "      <th>1</th>\n",
       "      <td>0.371626</td>\n",
       "      <td>0.000000</td>\n",
       "      <td>0.371626</td>\n",
       "      <td>0.000000</td>\n",
       "      <td>0.000000</td>\n",
       "      <td>0.219488</td>\n",
       "      <td>0.000000</td>\n",
       "      <td>0.565262</td>\n",
       "      <td>0.371626</td>\n",
       "      <td>0.000000</td>\n",
       "      <td>0.000000</td>\n",
       "      <td>0.000000</td>\n",
       "      <td>0.371626</td>\n",
       "      <td>0.000000</td>\n",
       "      <td>0.282631</td>\n",
       "    </tr>\n",
       "    <tr>\n",
       "      <th>2</th>\n",
       "      <td>0.000000</td>\n",
       "      <td>0.375716</td>\n",
       "      <td>0.000000</td>\n",
       "      <td>0.375716</td>\n",
       "      <td>0.285742</td>\n",
       "      <td>0.221904</td>\n",
       "      <td>0.375716</td>\n",
       "      <td>0.000000</td>\n",
       "      <td>0.000000</td>\n",
       "      <td>0.375716</td>\n",
       "      <td>0.285742</td>\n",
       "      <td>0.375716</td>\n",
       "      <td>0.000000</td>\n",
       "      <td>0.285742</td>\n",
       "      <td>0.000000</td>\n",
       "    </tr>\n",
       "  </tbody>\n",
       "</table>\n",
       "</div>"
      ],
      "text/plain": [
       "      about       all      also      done       for      good      have  \\\n",
       "0  0.000000  0.000000  0.000000  0.000000  0.422461  0.328078  0.000000   \n",
       "1  0.371626  0.000000  0.371626  0.000000  0.000000  0.219488  0.000000   \n",
       "2  0.000000  0.375716  0.000000  0.375716  0.285742  0.221904  0.375716   \n",
       "\n",
       "         it      know        of  practice      they        to        us  \\\n",
       "0  0.422461  0.000000  0.000000  0.422461  0.000000  0.000000  0.422461   \n",
       "1  0.565262  0.371626  0.000000  0.000000  0.000000  0.371626  0.000000   \n",
       "2  0.000000  0.000000  0.375716  0.285742  0.375716  0.000000  0.285742   \n",
       "\n",
       "        was  \n",
       "0  0.422461  \n",
       "1  0.282631  \n",
       "2  0.000000  "
      ]
     },
     "execution_count": 47,
     "metadata": {},
     "output_type": "execute_result"
    }
   ],
   "source": [
    "df"
   ]
  },
  {
   "cell_type": "code",
   "execution_count": null,
   "id": "aeabe916-ed68-4f0a-a5a6-0fcb6b902fd9",
   "metadata": {},
   "outputs": [],
   "source": []
  }
 ],
 "metadata": {
  "kernelspec": {
   "display_name": "Python 3 (ipykernel)",
   "language": "python",
   "name": "python3"
  },
  "language_info": {
   "codemirror_mode": {
    "name": "ipython",
    "version": 3
   },
   "file_extension": ".py",
   "mimetype": "text/x-python",
   "name": "python",
   "nbconvert_exporter": "python",
   "pygments_lexer": "ipython3",
   "version": "3.11.7"
  }
 },
 "nbformat": 4,
 "nbformat_minor": 5
}
